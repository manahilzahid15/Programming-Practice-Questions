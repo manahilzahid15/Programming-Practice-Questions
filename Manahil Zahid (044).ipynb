{
 "cells": [
  {
   "cell_type": "markdown",
   "id": "09272590-6b76-43e4-9344-855f07c60a7e",
   "metadata": {},
   "source": [
    "## Question 1"
   ]
  },
  {
   "cell_type": "markdown",
   "id": "69756fd3-deb9-43e9-9dbb-9a74b875f55a",
   "metadata": {},
   "source": [
    "**Write a for loop to print all even numbers from 2 to 20.**"
   ]
  },
  {
   "cell_type": "code",
   "execution_count": 32,
   "id": "98972153-33c7-4926-867d-c3d170238226",
   "metadata": {},
   "outputs": [
    {
     "name": "stdout",
     "output_type": "stream",
     "text": [
      "2\n",
      "4\n",
      "6\n",
      "8\n",
      "10\n",
      "12\n",
      "14\n",
      "16\n",
      "18\n",
      "20\n"
     ]
    }
   ],
   "source": [
    "numbers = [1,2,3,4,5,6,7,8,9,10,11,12,13,14,15,16,17,18,19,20]\n",
    "for number in numbers[1::2]:\n",
    "    print(number)"
   ]
  },
  {
   "cell_type": "markdown",
   "id": "66c25896-ddcd-48cb-b273-9651d608fe30",
   "metadata": {},
   "source": [
    "## Question 2"
   ]
  },
  {
   "cell_type": "markdown",
   "id": "8d742d13-7f72-43b7-9f0a-3e9b1e82694a",
   "metadata": {},
   "source": [
    "**Create a list of names and use a for loop to print each name in uppercase.**\n"
   ]
  },
  {
   "cell_type": "code",
   "execution_count": 40,
   "id": "f67873b3-5155-461e-9c4f-06878b6b1849",
   "metadata": {},
   "outputs": [
    {
     "name": "stdout",
     "output_type": "stream",
     "text": [
      "AMNA\n",
      "AISHA\n",
      "AHMED\n",
      "ALI\n"
     ]
    }
   ],
   "source": [
    "names = [\"amna\", \"aisha\", \"ahmed\", \"ali\"]\n",
    "for name in names:\n",
    "    print(name.upper())"
   ]
  },
  {
   "cell_type": "markdown",
   "id": "ec7c8947-5460-4e52-8b68-2dbc0ed67343",
   "metadata": {},
   "source": [
    "## Question 3"
   ]
  },
  {
   "cell_type": "markdown",
   "id": "b5574a32-0d7c-4b30-8d92-12fde7d63394",
   "metadata": {},
   "source": [
    "**Use a for loop with range() to print numbers from 10 to 1 in reverse order.**\n"
   ]
  },
  {
   "cell_type": "code",
   "execution_count": 44,
   "id": "06ad594d-f803-4a26-b98e-30cfee09fcc7",
   "metadata": {},
   "outputs": [
    {
     "name": "stdout",
     "output_type": "stream",
     "text": [
      "10\n",
      "9\n",
      "8\n",
      "7\n",
      "6\n",
      "5\n",
      "4\n",
      "3\n",
      "2\n",
      "1\n"
     ]
    }
   ],
   "source": [
    "numbers = [1,2,3,4,5,6,7,8,9,10]\n",
    "for number in range(10,0,-1):\n",
    "    print(number)\n",
    "    "
   ]
  },
  {
   "cell_type": "markdown",
   "id": "7d220448-3aec-4484-9aba-a19d3a83cb50",
   "metadata": {},
   "source": [
    "## Question 4"
   ]
  },
  {
   "cell_type": "markdown",
   "id": "1850ec2f-50e9-405c-b397-ced3b0b36d41",
   "metadata": {},
   "source": [
    "**Iterate through a list of integers and print only the numbers that are divisible by 3.**"
   ]
  },
  {
   "cell_type": "code",
   "execution_count": 52,
   "id": "9444c2b8-493d-46d6-8649-35df5e80c6da",
   "metadata": {},
   "outputs": [
    {
     "name": "stdout",
     "output_type": "stream",
     "text": [
      "3\n",
      "6\n",
      "9\n",
      "12\n",
      "15\n"
     ]
    }
   ],
   "source": [
    "integers = [1,2,3,4,5,6,7,8,9,10,11,12,13,14,15]\n",
    "for integer in integers:\n",
    "    if integer % 3 == 0:\n",
    "     print(integer)"
   ]
  },
  {
   "cell_type": "markdown",
   "id": "dd687606-3598-4965-bfae-7fb20a0f5e85",
   "metadata": {},
   "source": [
    "## Question 5"
   ]
  },
  {
   "cell_type": "markdown",
   "id": "39e76e3c-d590-43fa-b5a6-ed450f87b75a",
   "metadata": {},
   "source": [
    "**Write a loop that prints the squares of numbers from 1 to 10.**"
   ]
  },
  {
   "cell_type": "code",
   "execution_count": 56,
   "id": "f0a93254-3a3e-4a48-98a2-e3f30dc8b72e",
   "metadata": {},
   "outputs": [
    {
     "name": "stdout",
     "output_type": "stream",
     "text": [
      "1\n",
      "4\n",
      "9\n",
      "16\n",
      "25\n",
      "36\n",
      "49\n",
      "64\n",
      "81\n",
      "100\n"
     ]
    }
   ],
   "source": [
    "numbers = [1,2,3,4,5,6,7,8,9,10]\n",
    "for number in numbers:\n",
    "    squared = number ** 2\n",
    "    print (squared)"
   ]
  },
  {
   "cell_type": "markdown",
   "id": "317b1217-b706-49ee-86e5-ed15f3fb52e9",
   "metadata": {},
   "source": [
    "## Question 6"
   ]
  },
  {
   "cell_type": "markdown",
   "id": "0b1a16c5-7fa0-4ffb-9909-2cacbdadf97e",
   "metadata": {},
   "source": [
    "**Given a list of temperatures in Celsius, use a for loop to convert each to Fahrenheit.**"
   ]
  },
  {
   "cell_type": "code",
   "execution_count": 58,
   "id": "390a6f2b-0cac-48d4-bd42-4a2d300041b4",
   "metadata": {},
   "outputs": [
    {
     "name": "stdout",
     "output_type": "stream",
     "text": [
      "20 degrees celsius in equal to 68.0 degrees fahrenheit\n",
      "15 degrees celsius in equal to 59.0 degrees fahrenheit\n",
      "30 degrees celsius in equal to 86.0 degrees fahrenheit\n",
      "25 degrees celsius in equal to 77.0 degrees fahrenheit\n",
      "35 degrees celsius in equal to 95.0 degrees fahrenheit\n"
     ]
    }
   ],
   "source": [
    "celsius_temp = [20,15,30,25,35]\n",
    "for celsius in celsius_temp:\n",
    "    fahrenheit = (celsius * 9/5) + 32\n",
    "    print(f\"{celsius} degrees celsius in equal to {fahrenheit} degrees fahrenheit\")"
   ]
  },
  {
   "cell_type": "markdown",
   "id": "0900e641-1591-48fc-9ea8-5b00fe847960",
   "metadata": {},
   "source": [
    "## Question 7"
   ]
  },
  {
   "cell_type": "markdown",
   "id": "9ad5c41b-7b81-457d-80e0-d2075ebaac45",
   "metadata": {},
   "source": [
    "**Create a for loop that prints the multiplication table of 5.**"
   ]
  },
  {
   "cell_type": "code",
   "execution_count": 64,
   "id": "be12d065-7de5-476e-ab54-12a5566dcb59",
   "metadata": {},
   "outputs": [
    {
     "name": "stdout",
     "output_type": "stream",
     "text": [
      "5 * 1 = 5\n",
      "5 * 2 = 10\n",
      "5 * 3 = 15\n",
      "5 * 4 = 20\n",
      "5 * 5 = 25\n",
      "5 * 6 = 30\n",
      "5 * 7 = 35\n",
      "5 * 8 = 40\n",
      "5 * 9 = 45\n",
      "5 * 10 = 50\n",
      "5 * 11 = 55\n",
      "5 * 12 = 60\n"
     ]
    }
   ],
   "source": [
    "numbers = [1,2,3,4,5,6,7,8,9,10,11,12]\n",
    "for number in numbers:\n",
    "    table_of_5 = number * 5\n",
    "    print(f\"5 * {number} = {table_of_5}\")"
   ]
  },
  {
   "cell_type": "markdown",
   "id": "90bbe297-b27d-4af6-84d3-0d56e638d0b9",
   "metadata": {},
   "source": [
    "## Question 8"
   ]
  },
  {
   "cell_type": "markdown",
   "id": "6f26afc5-c0c6-414f-9a3c-afde4aeac1c7",
   "metadata": {},
   "source": [
    "**Write a program to find the sum of all numbers in a list using a for loop.**"
   ]
  },
  {
   "cell_type": "code",
   "execution_count": 68,
   "id": "679685c1-4dcb-4557-b206-68ad8666ea6e",
   "metadata": {},
   "outputs": [
    {
     "name": "stdout",
     "output_type": "stream",
     "text": [
      "1\n",
      "3\n",
      "6\n",
      "10\n",
      "15\n",
      "the sum of the numbers in the list is 15\n"
     ]
    }
   ],
   "source": [
    "numbers = [1,2,3,4,5]\n",
    "sum = 0\n",
    "for number in numbers:\n",
    "    sum = sum + number\n",
    "    print(sum)\n",
    "print(f\"the sum of the numbers in the list is {sum}\")    \n",
    "    "
   ]
  },
  {
   "cell_type": "markdown",
   "id": "937d0be8-df2c-4de8-ae20-f86488d7350a",
   "metadata": {},
   "source": [
    "## Question 9"
   ]
  },
  {
   "cell_type": "markdown",
   "id": "dd619990-ab4e-4e50-af8c-bb7b6b5151ea",
   "metadata": {},
   "source": [
    "**Use a for loop to iterate through a string and print each character separately.**"
   ]
  },
  {
   "cell_type": "code",
   "execution_count": 70,
   "id": "a9a860b3-fbaa-427b-b20f-535858f0401b",
   "metadata": {},
   "outputs": [
    {
     "name": "stdout",
     "output_type": "stream",
     "text": [
      "M\n",
      "a\n",
      "n\n",
      "a\n",
      "h\n",
      "i\n",
      "l\n",
      " \n",
      "Z\n",
      "a\n",
      "h\n",
      "i\n",
      "d\n"
     ]
    }
   ],
   "source": [
    "string = \"Manahil Zahid\"\n",
    "for char in string:\n",
    "    print(char)"
   ]
  },
  {
   "cell_type": "markdown",
   "id": "67bf2cec-010f-4096-802e-20cdbe4feea1",
   "metadata": {},
   "source": [
    "## Question 10"
   ]
  },
  {
   "cell_type": "markdown",
   "id": "950836d4-fa0b-484d-b888-5c23a3374b63",
   "metadata": {},
   "source": [
    "**Create a list of words and use a for loop to print only the words with more than 5 letters.**"
   ]
  },
  {
   "cell_type": "code",
   "execution_count": 74,
   "id": "c704744e-d560-48b2-b0b9-63020e2eb5d1",
   "metadata": {},
   "outputs": [
    {
     "name": "stdout",
     "output_type": "stream",
     "text": [
      "monitor\n",
      "keyboard\n",
      "microphone\n",
      "speaker\n"
     ]
    }
   ],
   "source": [
    "words = [\"monitor\", \"keyboard\", \"cpu\", \"mouse\", \"desk\", \"chair\", \"microphone\", \"speaker\"]\n",
    "for word in words:\n",
    "    if len(word) > 5:\n",
    "        print(word)"
   ]
  }
 ],
 "metadata": {
  "kernelspec": {
   "display_name": "Python [conda env:base] *",
   "language": "python",
   "name": "conda-base-py"
  },
  "language_info": {
   "codemirror_mode": {
    "name": "ipython",
    "version": 3
   },
   "file_extension": ".py",
   "mimetype": "text/x-python",
   "name": "python",
   "nbconvert_exporter": "python",
   "pygments_lexer": "ipython3",
   "version": "3.12.7"
  }
 },
 "nbformat": 4,
 "nbformat_minor": 5
}
